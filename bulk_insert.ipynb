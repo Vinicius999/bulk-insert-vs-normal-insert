{
 "cells": [
  {
   "cell_type": "code",
   "execution_count": 1,
   "id": "20de0c3e-cb10-4dfe-926f-c011b164fd53",
   "metadata": {},
   "outputs": [],
   "source": [
    "import glob\n",
    "import pandas as pd\n",
    "import psycopg2\n",
    "import psycopg2.extras"
   ]
  },
  {
   "cell_type": "code",
   "execution_count": 2,
   "id": "3540cd4a-1266-4d0b-8595-560131ea964f",
   "metadata": {},
   "outputs": [],
   "source": [
    "# Classes e métodos\n",
    "\n",
    "class Database:\n",
    "    def __init__ (self, HOST, DATABASE, USER, PASSWORD):\n",
    "        print('Connecting to nasdaq...')\n",
    "        self.HOST=HOST\n",
    "        self.DATABASE=DATABASE\n",
    "        self.USER=USER\n",
    "        self.PASSWORD=PASSWORD\n",
    "        \n",
    "    def connect_db(self):\n",
    "        self.conn = psycopg2.connect(\n",
    "            host=self.HOST,\n",
    "            database=self.DATABASE,\n",
    "            user=self.USER,\n",
    "            password=self.PASSWORD\n",
    "        )\n",
    "        return self.conn\n",
    "        \n",
    "    def criate_db(self, sql):\n",
    "        self.conn = self.connect_db()\n",
    "        self.cur = self.conn.cursor()\n",
    "        self.cur.execute(sql)\n",
    "        self.conn.commit()\n",
    "        self.conn.close()   \n",
    "    \n",
    "    def insert_db(self, sql):\n",
    "        self.conn = self.connect_db()\n",
    "        self.cur = self.conn.cursor()\n",
    "        try:\n",
    "            self.cur.execute(sql)\n",
    "            self.conn.commit()\n",
    "        except (Exception, psycopg2.DatabaseError) as error:\n",
    "            print(f\"Error: {error}\")\n",
    "            self.conn.rollback()\n",
    "            self.cur.close()\n",
    "            return 1\n",
    "        self.cur.close()\n",
    "    \n",
    "    def bulk_insert_db(self, sql, data):\n",
    "        self.conn = self.connect_db()\n",
    "        self.cur = self.conn.cursor()\n",
    "        psycopg2.extras.execute_values(self.cur, sql, data)\n",
    "        self.conn.commit()\n",
    "        self.cur.close()\n",
    "        self.conn.close()\n",
    "        \n",
    "    def select_db(self, sql):\n",
    "        self.conn = self.connect_db()\n",
    "        self.cur = self.conn.cursor()\n",
    "        self.cur.execute(sql)\n",
    "        self.recset = self.cur.fetchall()\n",
    "        self.records = []\n",
    "        for rec in self.recset:\n",
    "            self.records.append(rec)\n",
    "        self.conn.close()\n",
    "        return self.records"
   ]
  },
  {
   "cell_type": "code",
   "execution_count": 3,
   "id": "bc9a9289-fed8-435b-80ff-e184fc45be8b",
   "metadata": {},
   "outputs": [
    {
     "name": "stdout",
     "output_type": "stream",
     "text": [
      "Connecting to nasdaq...\n"
     ]
    }
   ],
   "source": [
    "# Logando no banco de dados\n",
    "HOST='localhost'\n",
    "DATABASE='nasdaq'\n",
    "USER='postgres'\n",
    "PASSWORD='postgres'\n",
    "\n",
    "# Database Class\n",
    "db = Database(HOST, DATABASE, USER, PASSWORD)"
   ]
  },
  {
   "cell_type": "code",
   "execution_count": 15,
   "id": "264a1fdf-5cfb-41e3-b495-2207cb28c951",
   "metadata": {},
   "outputs": [],
   "source": [
    "# Creating tables\n",
    "sql = 'DROP TABLE IF EXISTS public.nasdaq;'\n",
    "db.criate_db(sql)\n",
    "\n",
    "sql = '''\n",
    "    CREATE TABLE IF NOT EXISTS nasdaq (\n",
    "        id SERIAL PRIMARY KEY,\n",
    "        \"Date\" VARCHAR(50),\n",
    "        \"Low\" VARCHAR(50),\n",
    "        \"Open\" VARCHAR(50),\n",
    "        \"Volume\" VARCHAR(50),\n",
    "        \"High\" VARCHAR(50),\n",
    "        \"Close\" VARCHAR(50),\n",
    "        \"Adjusted Close\" VARCHAR(50)\n",
    ")'''\n",
    "db.criate_db(sql)"
   ]
  },
  {
   "cell_type": "code",
   "execution_count": 4,
   "id": "826520dc-5884-43e4-94e7-8caa1f410a70",
   "metadata": {},
   "outputs": [],
   "source": [
    "# Creating tables\n",
    "sql = 'DROP TABLE IF EXISTS public.normal_insert;'\n",
    "db.criate_db(sql)\n",
    "\n",
    "sql = '''\n",
    "    CREATE TABLE IF NOT EXISTS normal_insert (\n",
    "        id SERIAL PRIMARY KEY,\n",
    "        \"Date\" VARCHAR(50),\n",
    "        \"Low\" VARCHAR(50),\n",
    "        \"Open\" VARCHAR(50),\n",
    "        \"Volume\" VARCHAR(50),\n",
    "        \"High\" VARCHAR(50),\n",
    "        \"Close\" VARCHAR(50),\n",
    "        \"Adjusted Close\" VARCHAR(50)\n",
    ")'''\n",
    "db.criate_db(sql)"
   ]
  },
  {
   "cell_type": "code",
   "execution_count": 5,
   "id": "175147c4-6bce-47e3-bfb6-519ed2f96fec",
   "metadata": {},
   "outputs": [],
   "source": [
    "path = 'data/nasdaq/csv/'\n",
    "all_files = glob.glob(path + \"*.csv\")\n",
    "\n",
    "list_df = []\n",
    "\n",
    "for filename in all_files:\n",
    "    try:\n",
    "        df = pd.read_csv(filename, index_col=None, header=0)\n",
    "        list_df.append(df)\n",
    "    except:\n",
    "        print(filename)\n",
    "        continue"
   ]
  },
  {
   "cell_type": "code",
   "execution_count": 6,
   "id": "4eb71cc0-bb69-4624-b95b-2034b482b185",
   "metadata": {},
   "outputs": [],
   "source": [
    "df = pd.concat(list_df, axis=0, ignore_index=True)\n",
    "df = df[['Date', 'Low', 'Open', 'Volume', 'High', 'Close', 'Adjusted Close']]"
   ]
  },
  {
   "cell_type": "code",
   "execution_count": 7,
   "id": "0c68b64e-6b93-405d-a74f-203992b62b38",
   "metadata": {},
   "outputs": [
    {
     "name": "stdout",
     "output_type": "stream",
     "text": [
      "CPU times: user 1min 32s, sys: 1.38 s, total: 1min 33s\n",
      "Wall time: 1min 33s\n"
     ]
    }
   ],
   "source": [
    "%%time\n",
    "# Convertendo dataframe em lista de tuplas\n",
    "list_tuples = [tuple(line) for line in df.to_records(index=False)]"
   ]
  },
  {
   "cell_type": "markdown",
   "id": "80a902cc-dc38-4b9b-92e2-c42cb006203c",
   "metadata": {},
   "source": [
    "## Bulk Insert"
   ]
  },
  {
   "cell_type": "code",
   "execution_count": 16,
   "id": "e30e310e-0e4f-4dc0-be19-74f122eb48d1",
   "metadata": {
    "tags": []
   },
   "outputs": [
    {
     "name": "stdout",
     "output_type": "stream",
     "text": [
      "CPU times: user 2min 31s, sys: 2.72 s, total: 2min 33s\n",
      "Wall time: 6min 36s\n"
     ]
    }
   ],
   "source": [
    "%%time\n",
    "sql = 'INSERT INTO nasdaq (\"Date\", \"Low\", \"Open\", \"Volume\", \"High\", \"Close\", \"Adjusted Close\") VALUES %s'\n",
    "db.bulk_insert_db(sql, list_tuples)"
   ]
  },
  {
   "cell_type": "markdown",
   "id": "94cddf82-8cd4-4773-a1a4-8522517782d5",
   "metadata": {},
   "source": [
    "## Normal Insert"
   ]
  },
  {
   "cell_type": "code",
   "execution_count": null,
   "id": "3b92d3e7-d87f-4abb-806d-73abce953d1f",
   "metadata": {},
   "outputs": [],
   "source": [
    "%%time\n",
    "# Inserting data in database\n",
    "for i in df.index:\n",
    "    sql = f\"\"\"\n",
    "        INSERT INTO normal_insert (\"Date\", \"Low\", \"Open\", \"Volume\", \"High\", \"Close\", \"Adjusted Close\")\n",
    "        VALUES ($${df['Date'][i]}$$, $${df['Low'][i]}$$, $${df['Open'][i]}$$, $${df['Volume'][i]}$$, $${df['High'][i]}$$, $${df['Close'][i]}$$, $${df['Adjusted Close'][i]}$$);\n",
    "    \"\"\"\n",
    "    db.insert_db(sql)"
   ]
  },
  {
   "cell_type": "code",
   "execution_count": 17,
   "id": "bf98b606-11cb-438c-b80c-c6e0f7c68fbc",
   "metadata": {},
   "outputs": [
    {
     "data": {
      "text/html": [
       "<div>\n",
       "<style scoped>\n",
       "    .dataframe tbody tr th:only-of-type {\n",
       "        vertical-align: middle;\n",
       "    }\n",
       "\n",
       "    .dataframe tbody tr th {\n",
       "        vertical-align: top;\n",
       "    }\n",
       "\n",
       "    .dataframe thead th {\n",
       "        text-align: right;\n",
       "    }\n",
       "</style>\n",
       "<table border=\"1\" class=\"dataframe\">\n",
       "  <thead>\n",
       "    <tr style=\"text-align: right;\">\n",
       "      <th></th>\n",
       "      <th>Date</th>\n",
       "      <th>Low</th>\n",
       "      <th>Open</th>\n",
       "      <th>Volume</th>\n",
       "      <th>High</th>\n",
       "      <th>Close</th>\n",
       "      <th>Adjusted Close</th>\n",
       "    </tr>\n",
       "  </thead>\n",
       "  <tbody>\n",
       "    <tr>\n",
       "      <th>0</th>\n",
       "      <td>27-09-2005</td>\n",
       "      <td>19.100000</td>\n",
       "      <td>21.049999</td>\n",
       "      <td>961200.0</td>\n",
       "      <td>21.4</td>\n",
       "      <td>19.299999</td>\n",
       "      <td>18.194910</td>\n",
       "    </tr>\n",
       "    <tr>\n",
       "      <th>1</th>\n",
       "      <td>28-09-2005</td>\n",
       "      <td>19.200001</td>\n",
       "      <td>19.299999</td>\n",
       "      <td>5747900.0</td>\n",
       "      <td>20.530001</td>\n",
       "      <td>20.500000</td>\n",
       "      <td>19.326204</td>\n",
       "    </tr>\n",
       "    <tr>\n",
       "      <th>2</th>\n",
       "      <td>29-09-2005</td>\n",
       "      <td>20.100000</td>\n",
       "      <td>20.4</td>\n",
       "      <td>1078200.0</td>\n",
       "      <td>20.58</td>\n",
       "      <td>20.209999</td>\n",
       "      <td>19.052805</td>\n",
       "    </tr>\n",
       "    <tr>\n",
       "      <th>3</th>\n",
       "      <td>30-09-2005</td>\n",
       "      <td>20.180000</td>\n",
       "      <td>20.26</td>\n",
       "      <td>3123300.0</td>\n",
       "      <td>21.049999</td>\n",
       "      <td>21.010000</td>\n",
       "      <td>19.807001</td>\n",
       "    </tr>\n",
       "    <tr>\n",
       "      <th>4</th>\n",
       "      <td>03-10-2005</td>\n",
       "      <td>20.900000</td>\n",
       "      <td>20.9</td>\n",
       "      <td>1057900.0</td>\n",
       "      <td>21.75</td>\n",
       "      <td>21.500000</td>\n",
       "      <td>20.268940</td>\n",
       "    </tr>\n",
       "  </tbody>\n",
       "</table>\n",
       "</div>"
      ],
      "text/plain": [
       "         Date        Low       Open     Volume       High      Close  \\\n",
       "0  27-09-2005  19.100000  21.049999   961200.0       21.4  19.299999   \n",
       "1  28-09-2005  19.200001  19.299999  5747900.0  20.530001  20.500000   \n",
       "2  29-09-2005  20.100000       20.4  1078200.0      20.58  20.209999   \n",
       "3  30-09-2005  20.180000      20.26  3123300.0  21.049999  21.010000   \n",
       "4  03-10-2005  20.900000       20.9  1057900.0      21.75  21.500000   \n",
       "\n",
       "   Adjusted Close  \n",
       "0       18.194910  \n",
       "1       19.326204  \n",
       "2       19.052805  \n",
       "3       19.807001  \n",
       "4       20.268940  "
      ]
     },
     "execution_count": 17,
     "metadata": {},
     "output_type": "execute_result"
    }
   ],
   "source": [
    "df.head()"
   ]
  },
  {
   "cell_type": "code",
   "execution_count": null,
   "id": "e4283c0f-fbc8-49cc-8ea5-b7d446be7d2c",
   "metadata": {},
   "outputs": [],
   "source": [
    "def redsfhit_connection_prd():\n",
    "    username = os.environ.get('DAGSTER_REDSHIFT_USERNAME')\n",
    "    password = os.environ.get('DAGSTER_REDSHIFT_PASSWORD')\n",
    "    con = psycopg2.connect(\n",
    "        dbname=os.environ.get('DAGSTER_REDSHIFT_DATABASE'),\n",
    "        host=os.environ.get('DAGSTER_REDSHIFT_HOST'),\n",
    "        port='5439',\n",
    "        user=username,\n",
    "        password=password\n",
    "    )\n",
    "    return con"
   ]
  },
  {
   "cell_type": "code",
   "execution_count": null,
   "id": "5e6ac88e-b5c1-4339-9b38-06c5ae2030a6",
   "metadata": {},
   "outputs": [],
   "source": [
    "def mysql_server_prd(dbname):\n",
    "    host = os.environ.get('DAGSTER_MYSQL_HOST')\n",
    "    username = os.environ.get('DAGSTER_MYSQL_USERNAME')\n",
    "    password = os.environ.get('DAGSTER_MYSQL_PASSWORD')\n",
    " \n",
    "    engine = create_engine(\n",
    "        f\"mysql+pymysql://{username}:{quote_plus(password)}@{host}:3306/{dbname}\"\n",
    "    )\n",
    "    return engine.connect()"
   ]
  },
  {
   "cell_type": "code",
   "execution_count": null,
   "id": "393a7fe7-a5d7-4be1-aa12-48a83ce4be44",
   "metadata": {},
   "outputs": [],
   "source": []
  },
  {
   "cell_type": "code",
   "execution_count": null,
   "id": "c3db8ac8-27f8-4f09-9d4f-0979dec92eb4",
   "metadata": {},
   "outputs": [],
   "source": []
  },
  {
   "cell_type": "code",
   "execution_count": null,
   "id": "05dbc454-34aa-4b72-930f-e0ba2834cf5c",
   "metadata": {},
   "outputs": [],
   "source": []
  }
 ],
 "metadata": {
  "kernelspec": {
   "display_name": "virtualenv",
   "language": "python",
   "name": "virtualenv"
  },
  "language_info": {
   "codemirror_mode": {
    "name": "ipython",
    "version": 3
   },
   "file_extension": ".py",
   "mimetype": "text/x-python",
   "name": "python",
   "nbconvert_exporter": "python",
   "pygments_lexer": "ipython3",
   "version": "3.9.12"
  }
 },
 "nbformat": 4,
 "nbformat_minor": 5
}
